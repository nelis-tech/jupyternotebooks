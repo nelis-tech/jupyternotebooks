{
  "nbformat": 4,
  "nbformat_minor": 0,
  "metadata": {
    "colab": {
      "provenance": [],
      "machine_shape": "hm"
    },
    "kernelspec": {
      "name": "python3",
      "display_name": "Python 3"
    },
    "language_info": {
      "name": "python"
    },
    "accelerator": "GPU",
    "gpuClass": "standard"
  },
  "cells": [
    {
      "cell_type": "code",
      "execution_count": null,
      "metadata": {
        "id": "IYbmMXHVv6Za"
      },
      "outputs": [],
      "source": [
        "!pip install transformers\n",
        "!pip install bitsandbytes-cuda112==0.26.0.post2\n",
        "!pip install datasets==1.16.1\n",
        "!pip install sentencepiece\n",
        "!pip install sacremoses\n",
        "!pip install accelerate"
      ]
    },
    {
      "cell_type": "code",
      "source": [
        "import torch\n",
        "from transformers import AutoTokenizer, AutoModelForCausalLM\n",
        "\n",
        "device = torch.device(\"cuda\" if torch.cuda.is_available() else \"cpu\")\n",
        "\n",
        "model = AutoModelForCausalLM.from_pretrained(\"Salesforce/codegen-6B-multi\", low_cpu_mem_usage=True)\n",
        "model.to(device)\n",
        "tokenizer = AutoTokenizer.from_pretrained(\"Salesforce/codegen-6B-multi\")"
      ],
      "metadata": {
        "id": "EmN1PNnRv9TG"
      },
      "execution_count": null,
      "outputs": []
    },
    {
      "cell_type": "code",
      "source": [
        "prompt = \"\"\"Instruction: Make this python code work to generate a novel story\n",
        "\n",
        "import nltk\n",
        "nltk.download('punkt')\n",
        "\n",
        "file_content = open(\"novel.txt\").read()\n",
        "text = file_content.lower()\n",
        "sentence = nltk.word_tokenize(text)\n",
        "\n",
        "\n",
        "import random\n",
        "import math\n",
        "import numpy as np\n",
        "\n",
        "words = sentence\n",
        "\n",
        "def generate_text(words):\n",
        "    texts = []\n",
        "    for word in words:\n",
        "        text = \" \".join(word) + \"     \"\n",
        "        texts.append(text)\n",
        "\n",
        "    return texts\n",
        "\n",
        "def convert_text(text):\n",
        "    text = []\n",
        "    for text in text:\n",
        "        text(text.split(\" \"))\n",
        "\n",
        "    return text\n",
        "\n",
        "def generate_generator():\n",
        "    from random import choice\n",
        "    from math import floor\n",
        "\n",
        "    sentences = [generate_text(sentence) for _ in range(5)]\n",
        "\n",
        "    numprompt_sentence = \"\"\n",
        "    while True:\n",
        "        prompt = input()\n",
        "        # If prompt is empty return a random sentence.\n",
        "        if prompt in [\"\", \"q\"]:\n",
        "            break\n",
        "\n",
        "        if prompt == \">\" or \"\\n\":\n",
        "            next_sentence = choice(sentences)\n",
        "            numprompt_sentence += convert_text(next_sentence).rstrip()\n",
        "            continue\n",
        "\n",
        "        prompt = prompt.lower()\n",
        "        numprompt_sentence += convert_text(next_sentence).rstrip()\n",
        "\n",
        "    return numprompt_sentence\n",
        "\n",
        "generator = generate_generator()\n",
        "Answer: \"\"\"\n",
        "input_ids = tokenizer(prompt, return_tensors=\"pt\").input_ids.to(device)\n",
        "\n",
        "generated_ids = model.generate(input_ids, do_sample=True, temperature=0.9, max_length=2000)\n",
        "generated_text = tokenizer.decode(generated_ids[0])\n",
        "print(generated_text)"
      ],
      "metadata": {
        "id": "3eNiwfDvw6tS"
      },
      "execution_count": null,
      "outputs": []
    }
  ]
}