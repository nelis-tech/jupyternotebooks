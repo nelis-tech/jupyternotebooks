{
  "nbformat": 4,
  "nbformat_minor": 0,
  "metadata": {
    "colab": {
      "provenance": [],
      "collapsed_sections": [],
      "machine_shape": "hm"
    },
    "kernelspec": {
      "name": "python3",
      "display_name": "Python 3"
    },
    "language_info": {
      "name": "python"
    },
    "accelerator": "GPU",
    "gpuClass": "premium"
  },
  "cells": [
    {
      "cell_type": "code",
      "execution_count": null,
      "metadata": {
        "id": "Rjr4OnFs-I7M"
      },
      "outputs": [],
      "source": [
        "import numpy as np\n",
        "import pandas as pd\n",
        "import nltk\n",
        "from nltk.tokenize import sent_tokenize"
      ]
    },
    {
      "cell_type": "code",
      "source": [
        "!nvidia-smi"
      ],
      "metadata": {
        "id": "KkWVr2u9C9_Z"
      },
      "execution_count": null,
      "outputs": []
    },
    {
      "cell_type": "code",
      "source": [
        "from psutil import virtual_memory\n",
        "ram_gb = virtual_memory().total / 1e9\n",
        "print('Your runtime has {:.1f} gigabytes of available RAM\\n'.format(ram_gb))\n",
        "\n",
        "if ram_gb < 40:\n",
        "  print('Not using a high-RAM runtime')\n",
        "else:\n",
        "  print('You are using a high-RAM runtime!')"
      ],
      "metadata": {
        "id": "0tUhUk2cRlKI"
      },
      "execution_count": null,
      "outputs": []
    },
    {
      "cell_type": "code",
      "source": [
        "!pip3 install aitextgen"
      ],
      "metadata": {
        "id": "mwc-rKAZ-0-S"
      },
      "execution_count": null,
      "outputs": []
    },
    {
      "cell_type": "code",
      "source": [
        "model=\"FrostAura/gpt-neo-1.3B-fiction-novel-generation\""
      ],
      "metadata": {
        "id": "7GuHp64X-9eS"
      },
      "execution_count": null,
      "outputs": []
    },
    {
      "cell_type": "code",
      "source": [
        "nltk.download('punkt')\n",
        "\n",
        "text = open(\"Episodes.txt\").read()\n",
        "sent_tokenize(text)"
      ],
      "metadata": {
        "id": "lnMsPbi2YqGj"
      },
      "execution_count": null,
      "outputs": []
    },
    {
      "cell_type": "code",
      "source": [
        "with open(\"input_text_cleaned.txt\",\"w\") as file:\n",
        "    file.write(text + \"\\n\")"
      ],
      "metadata": {
        "id": "0Zi20_imcvtv"
      },
      "execution_count": null,
      "outputs": []
    },
    {
      "cell_type": "code",
      "source": [
        "from aitextgen.TokenDataset import TokenDataset"
      ],
      "metadata": {
        "id": "g-SVeodA_GrR"
      },
      "execution_count": null,
      "outputs": []
    },
    {
      "cell_type": "code",
      "source": [
        "data = TokenDataset(\"input_text_cleaned.txt\")"
      ],
      "metadata": {
        "id": "LgNuX2FV_PBI"
      },
      "execution_count": null,
      "outputs": []
    },
    {
      "cell_type": "code",
      "source": [
        "from aitextgen import aitextgen"
      ],
      "metadata": {
        "id": "pySDcJ_q_aet"
      },
      "execution_count": null,
      "outputs": []
    },
    {
      "cell_type": "code",
      "source": [
        "ai = aitextgen(model = model, to_gpu=True)"
      ],
      "metadata": {
        "id": "a84bp58s_bBl"
      },
      "execution_count": null,
      "outputs": []
    },
    {
      "cell_type": "code",
      "source": [
        "ai.train(\"input_text_cleaned.txt\",\n",
        "         from_cache=False,\n",
        "         num_steps=5000,\n",
        "         generate_every=100,\n",
        "         save_every=500,\n",
        "         save_gdrive=False,\n",
        "         learning_rate=1e-3,\n",
        "         fp16=False,\n",
        "         batch_size=1, \n",
        "         )"
      ],
      "metadata": {
        "id": "CVTuXnUF_dHi"
      },
      "execution_count": null,
      "outputs": []
    },
    {
      "cell_type": "code",
      "source": [
        "ai.save()"
      ],
      "metadata": {
        "id": "txFTpzXn_xLl"
      },
      "execution_count": null,
      "outputs": []
    },
    {
      "cell_type": "code",
      "source": [
        "ai.save_for_upload('Niels-book-generator')"
      ],
      "metadata": {
        "id": "25ZpKP5MAcwm"
      },
      "execution_count": null,
      "outputs": []
    },
    {
      "cell_type": "code",
      "source": [
        "ai2 = aitextgen(model_folder=\"model_folder\", low_cpu_mem_usage=True, to_gpu=True,\n",
        "                tokenizer=\"tokenizer\")"
      ],
      "metadata": {
        "id": "fYa4AJX8tAWE"
      },
      "execution_count": null,
      "outputs": []
    },
    {
      "cell_type": "code",
      "source": [
        "ai2.generate(prompt=\"Cybering \",\n",
        "             n=4,\n",
        "             max_length=1000,\n",
        "             temperature=0.7,\n",
        "             )"
      ],
      "metadata": {
        "id": "fqrmrWP6tThd",
        "collapsed": true
      },
      "execution_count": null,
      "outputs": []
    }
  ]
}