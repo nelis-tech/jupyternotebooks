{
  "nbformat": 4,
  "nbformat_minor": 0,
  "metadata": {
    "colab": {
      "provenance": [],
      "collapsed_sections": [],
      "machine_shape": "hm"
    },
    "kernelspec": {
      "name": "python3",
      "display_name": "Python 3"
    },
    "language_info": {
      "name": "python"
    },
    "accelerator": "GPU",
    "gpuClass": "premium"
  },
  "cells": [
    {
      "cell_type": "code",
      "source": [
        "!nvidia-smi"
      ],
      "metadata": {
        "id": "LXUUIPYGng-H"
      },
      "execution_count": null,
      "outputs": []
    },
    {
      "cell_type": "code",
      "source": [
        "from psutil import virtual_memory\n",
        "ram_gb = virtual_memory().total / 1e9\n",
        "print('Your runtime has {:.1f} gigabytes of available RAM\\n'.format(ram_gb))\n",
        "\n",
        "if ram_gb < 40:\n",
        "  print('Not using a high-RAM runtime')\n",
        "else:\n",
        "  print('You are using a high-RAM runtime!')"
      ],
      "metadata": {
        "id": "zIktr7oknhrN"
      },
      "execution_count": null,
      "outputs": []
    },
    {
      "cell_type": "code",
      "execution_count": null,
      "metadata": {
        "id": "YAGsakfdmz1n"
      },
      "outputs": [],
      "source": [
        "!pip3 install aitextgen\n",
        "!pip install datasets\n",
        "!pip install ipywidgets\n",
        "!pip install accelerate"
      ]
    },
    {
      "cell_type": "code",
      "source": [
        "from aitextgen import aitextgen"
      ],
      "metadata": {
        "id": "_iXmnWQjnoPH"
      },
      "execution_count": null,
      "outputs": []
    },
    {
      "cell_type": "code",
      "source": [
        "model = 'EleutherAI/gpt-neo-2.7B'\n",
        "tokenizer = 'EleutherAI/gpt-neo-2.7B'"
      ],
      "metadata": {
        "id": "_MoNMTJJn94W"
      },
      "execution_count": null,
      "outputs": []
    },
    {
      "cell_type": "code",
      "source": [
        "ai2 = aitextgen(model=model, low_cpu_mem_usage=True, to_gpu=True,\n",
        "                tokenizer=tokenizer)"
      ],
      "metadata": {
        "id": "yEygreUbn2XW"
      },
      "execution_count": null,
      "outputs": []
    },
    {
      "cell_type": "code",
      "source": [
        "ai2.generate(prompt=\"Cybering \",\n",
        "             n=4,\n",
        "             max_length=500,\n",
        "             temperature=0.7,\n",
        "             )"
      ],
      "metadata": {
        "id": "J26voqGen-Vv"
      },
      "execution_count": null,
      "outputs": []
    }
  ]
}